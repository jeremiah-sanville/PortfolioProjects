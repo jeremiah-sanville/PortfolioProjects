{
 "cells": [
  {
   "cell_type": "code",
   "execution_count": 68,
   "id": "855a0412",
   "metadata": {
    "scrolled": false
   },
   "outputs": [],
   "source": [
    "# import libraries\n",
    "\n",
    "from bs4 import BeautifulSoup\n",
    "import re\n",
    "import requests\n",
    "import time\n",
    "import smtplib\n",
    "import csv\n",
    "import datetime\n",
    "from dataclasses import dataclass"
   ]
  },
  {
   "cell_type": "code",
   "execution_count": 103,
   "id": "7dc69af5",
   "metadata": {
    "scrolled": true
   },
   "outputs": [
    {
     "name": "stdout",
     "output_type": "stream",
     "text": [
      "https://www.linkedin.com/jobs-guest/jobs/api/seeMoreJobPostings/search?geoId=106518625&keywords=data%20analyst&start=0\n",
      "0\n",
      "https://www.linkedin.com/jobs-guest/jobs/api/seeMoreJobPostings/search?geoId=106518625&keywords=data%20analyst&start=25\n",
      "1\n",
      "https://www.linkedin.com/jobs-guest/jobs/api/seeMoreJobPostings/search?geoId=106518625&keywords=data%20analyst&start=50\n",
      "2\n",
      "https://www.linkedin.com/jobs-guest/jobs/api/seeMoreJobPostings/search?geoId=106518625&keywords=data%20analyst&start=75\n",
      "3\n",
      "https://www.linkedin.com/jobs-guest/jobs/api/seeMoreJobPostings/search?geoId=106518625&keywords=data%20analyst&start=100\n",
      "4\n",
      "https://www.linkedin.com/jobs-guest/jobs/api/seeMoreJobPostings/search?geoId=106518625&keywords=data%20analyst&start=125\n",
      "5\n",
      "https://www.linkedin.com/jobs-guest/jobs/api/seeMoreJobPostings/search?geoId=106518625&keywords=data%20analyst&start=150\n",
      "6\n",
      "https://www.linkedin.com/jobs-guest/jobs/api/seeMoreJobPostings/search?geoId=106518625&keywords=data%20analyst&start=175\n",
      "7\n",
      "https://www.linkedin.com/jobs-guest/jobs/api/seeMoreJobPostings/search?geoId=106518625&keywords=data%20analyst&start=200\n",
      "8\n",
      "https://www.linkedin.com/jobs-guest/jobs/api/seeMoreJobPostings/search?geoId=106518625&keywords=data%20analyst&start=225\n",
      "9\n",
      "https://www.linkedin.com/jobs-guest/jobs/api/seeMoreJobPostings/search?geoId=106518625&keywords=data%20analyst&start=250\n",
      "10\n",
      "https://www.linkedin.com/jobs-guest/jobs/api/seeMoreJobPostings/search?geoId=106518625&keywords=data%20analyst&start=275\n",
      "11\n",
      "https://www.linkedin.com/jobs-guest/jobs/api/seeMoreJobPostings/search?geoId=106518625&keywords=data%20analyst&start=300\n",
      "12\n",
      "https://www.linkedin.com/jobs-guest/jobs/api/seeMoreJobPostings/search?geoId=106518625&keywords=data%20analyst&start=325\n",
      "13\n",
      "https://www.linkedin.com/jobs-guest/jobs/api/seeMoreJobPostings/search?geoId=106518625&keywords=data%20analyst&start=350\n",
      "14\n",
      "https://www.linkedin.com/jobs-guest/jobs/api/seeMoreJobPostings/search?geoId=106518625&keywords=data%20analyst&start=375\n",
      "15\n",
      "https://www.linkedin.com/jobs-guest/jobs/api/seeMoreJobPostings/search?geoId=106518625&keywords=data%20analyst&start=400\n",
      "16\n",
      "https://www.linkedin.com/jobs-guest/jobs/api/seeMoreJobPostings/search?geoId=106518625&keywords=data%20analyst&start=425\n",
      "17\n",
      "https://www.linkedin.com/jobs-guest/jobs/api/seeMoreJobPostings/search?geoId=106518625&keywords=data%20analyst&start=450\n",
      "18\n",
      "https://www.linkedin.com/jobs-guest/jobs/api/seeMoreJobPostings/search?geoId=106518625&keywords=data%20analyst&start=475\n",
      "19\n",
      "https://www.linkedin.com/jobs-guest/jobs/api/seeMoreJobPostings/search?geoId=106518625&keywords=data%20analyst&start=500\n",
      "20\n",
      "https://www.linkedin.com/jobs-guest/jobs/api/seeMoreJobPostings/search?geoId=106518625&keywords=data%20analyst&start=525\n"
     ]
    }
   ],
   "source": [
    "# Connect to Website & Scrape Data\n",
    "\n",
    "@dataclass\n",
    "class Job:\n",
    "    title: str\n",
    "    company: str\n",
    "    location: str\n",
    "    date_posted: str\n",
    "\n",
    "def requestPage(keywords: str, page: int):\n",
    "    url = \"https://www.linkedin.com/jobs-guest/jobs/api/seeMoreJobPostings/search?geoId=106518625&keywords=%s&start=%s\" % (keywords, page*25) \n",
    "    headers = {\"User-Agent\": \"Mozilla/5.0 (Windows NT 10.0; Win64; x64) AppleWebKit/537.36 (KHTML, like Gecko) Chrome/108.0.0.0 Safari/537.36\"}\n",
    "    requests.get(url, headers=headers,cookies={'__hs_opt_out': 'no'})\n",
    "    page = requests.get(url, headers=headers)\n",
    "    print(url)\n",
    "    return BeautifulSoup(page.content, 'html.parser')\n",
    "\n",
    "def findJobs(soup: BeautifulSoup):\n",
    "    jobs = soup.find_all([\"div\",\"a\"],class_=\"job-search-card\")\n",
    "    return jobs\n",
    "\n",
    "def parseJob(job: BeautifulSoup):\n",
    "    info = job.find(\"div\",class_=\"base-search-card__info\")\n",
    "    title = info.h3.text.strip()\n",
    "    company = info.h4.text.strip()\n",
    "    location = info.div.span.text.strip()\n",
    "    date_posted = info.div.time[\"datetime\"]\n",
    "    return Job(title, company, location, date_posted)\n",
    "\n",
    "def checkForJobs\n",
    "    with open('LinkedInWebScraperDataset.csv', 'w', newline='', encoding='UTF8') as f:\n",
    "        writer = csv.writer(f)\n",
    "        writer.writerow(['Title', 'Company', 'Location','Date_Posted', 'Date_Collected'])\n",
    "\n",
    "        today = datetime.date.today()\n",
    "        page = 0\n",
    "        while True:\n",
    "            soup = requestPage(\"data%20analyst\", page)  \n",
    "            jobs = findJobs(soup)\n",
    "            if len(jobs) == 0:\n",
    "                break\n",
    "            print(page)\n",
    "            for job in jobs:\n",
    "                data = parseJob(job)\n",
    "                writer.writerow([data.title, data.company, data.location, data.date_posted, today])\n",
    "            page+= 1"
   ]
  }
 ],
 "metadata": {
  "kernelspec": {
   "display_name": "Python 3 (ipykernel)",
   "language": "python",
   "name": "python3"
  },
  "language_info": {
   "codemirror_mode": {
    "name": "ipython",
    "version": 3
   },
   "file_extension": ".py",
   "mimetype": "text/x-python",
   "name": "python",
   "nbconvert_exporter": "python",
   "pygments_lexer": "ipython3",
   "version": "3.9.13"
  }
 },
 "nbformat": 4,
 "nbformat_minor": 5
}
